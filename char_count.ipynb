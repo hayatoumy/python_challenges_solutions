{
 "cells": [
  {
   "cell_type": "markdown",
   "metadata": {},
   "source": [
    "# Create a list of tuples of the character, and its count. Sorted alphabetically"
   ]
  },
  {
   "cell_type": "code",
   "execution_count": 4,
   "metadata": {},
   "outputs": [],
   "source": [
    "def ordered_count(inputt:str):\n",
    "    # changing to a list\n",
    "    input_list = [ i.lower() for i in inputt]\n",
    "    \n",
    "    # makeing the tuples wanted\n",
    "    pairs = []\n",
    "    for i in input_list:\n",
    "        pairs.append( (i, input_list.count(i) ) )\n",
    "    \n",
    "    # eleminating duplicates: \n",
    "    pairs = sorted(list(set(pairs)))\n",
    "    \n",
    "    return pairs"
   ]
  },
  {
   "cell_type": "code",
   "execution_count": 5,
   "metadata": {},
   "outputs": [
    {
     "data": {
      "text/plain": [
       "[('a', 2), ('b', 2), ('c', 1), ('d', 3), ('e', 1), ('n', 1), ('s', 2)]"
      ]
     },
     "execution_count": 5,
     "metadata": {},
     "output_type": "execute_result"
    }
   ],
   "source": [
    "ordered_count('abcdedassnbd')"
   ]
  },
  {
   "cell_type": "code",
   "execution_count": 7,
   "metadata": {},
   "outputs": [
    {
     "data": {
      "text/plain": [
       "[(' ', 4),\n",
       " ('a', 1),\n",
       " ('d', 1),\n",
       " ('e', 1),\n",
       " ('f', 1),\n",
       " ('g', 1),\n",
       " ('i', 3),\n",
       " ('l', 1),\n",
       " ('o', 2),\n",
       " ('s', 3)]"
      ]
     },
     "execution_count": 7,
     "metadata": {},
     "output_type": "execute_result"
    }
   ],
   "source": [
    "ordered_count('LifE is gooD as IS')"
   ]
  },
  {
   "cell_type": "code",
   "execution_count": 8,
   "metadata": {},
   "outputs": [
    {
     "data": {
      "text/plain": [
       "[(' ', 3),\n",
       " ('a', 1),\n",
       " ('e', 2),\n",
       " ('g', 1),\n",
       " ('h', 2),\n",
       " ('i', 3),\n",
       " ('m', 1),\n",
       " ('n', 2),\n",
       " ('o', 1),\n",
       " ('r', 1),\n",
       " ('s', 1),\n",
       " ('t', 2)]"
      ]
     },
     "execution_count": 8,
     "metadata": {},
     "output_type": "execute_result"
    }
   ],
   "source": [
    "ordered_count('SomethiNG iN tHe aIR')"
   ]
  },
  {
   "cell_type": "markdown",
   "metadata": {},
   "source": [
    "The problem could by solved with pandas' `.unique()` method. But I want to use only base python in this repo."
   ]
  }
 ],
 "metadata": {
  "kernelspec": {
   "display_name": "Python 3",
   "language": "python",
   "name": "python3"
  },
  "language_info": {
   "codemirror_mode": {
    "name": "ipython",
    "version": 3
   },
   "file_extension": ".py",
   "mimetype": "text/x-python",
   "name": "python",
   "nbconvert_exporter": "python",
   "pygments_lexer": "ipython3",
   "version": "3.6.8"
  }
 },
 "nbformat": 4,
 "nbformat_minor": 2
}
