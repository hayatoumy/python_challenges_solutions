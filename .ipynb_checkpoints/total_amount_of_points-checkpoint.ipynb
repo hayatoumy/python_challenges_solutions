{
 "cells": [
  {
   "cell_type": "markdown",
   "metadata": {},
   "source": [
    "# Total Amount of Points\n",
    "\n",
    "Our football team finished the championship. The result of each match look like \"x:y\". Results of all matches are recorded in the collection.\n",
    "\n",
    "For example: [\"3:1\", \"2:2\", \"0:1\", ...]\n",
    "\n",
    "Write a function that takes such collection and counts the points of our team in the championship. Rules for counting points for each match:\n",
    "\n",
    "if x>y - 3 points\n",
    "if x<y - 0 point\n",
    "if x=y - 1 point\n",
    "Notes:\n",
    "\n",
    "there are 10 matches in the championship\n",
    "0 <= x <= 4\n",
    "0 <= y <= 4"
   ]
  },
  {
   "cell_type": "code",
   "execution_count": 1,
   "metadata": {},
   "outputs": [],
   "source": [
    "def points(games):\n",
    "    # split on the colon to separate x's from y's\n",
    "    parts = [i.split(':') for i in games] # now we have a list of lists\n",
    "    \n",
    "    #extracting the x's and the y's\n",
    "    xs = [parts[i][0] for i in range(len(parts))]\n",
    "    ys = [parts[i][1] for i in range(len(parts))]\n",
    "    \n",
    "    # loop through matching elements of x and y, following conditions\n",
    "    pnts = []\n",
    "    for i, j in zip(xs, ys):\n",
    "        if i > j:\n",
    "            pnts.append(3)\n",
    "        elif i == j:\n",
    "            pnts.append(1)\n",
    "        else: \n",
    "            pnts.append(0)\n",
    "    return sum(pnts) # need the sum"
   ]
  },
  {
   "cell_type": "code",
   "execution_count": 2,
   "metadata": {},
   "outputs": [
    {
     "data": {
      "text/plain": [
       "12"
      ]
     },
     "execution_count": 2,
     "metadata": {},
     "output_type": "execute_result"
    }
   ],
   "source": [
    "# testing the function: \n",
    "points(['1:0','2:0','3:0','4:4','2:2','3:3','1:4','2:3','2:4','3:4'])"
   ]
  },
  {
   "cell_type": "code",
   "execution_count": 5,
   "metadata": {},
   "outputs": [
    {
     "data": {
      "text/plain": [
       "15"
      ]
     },
     "execution_count": 5,
     "metadata": {},
     "output_type": "execute_result"
    }
   ],
   "source": [
    "points(['1:0','2:0','3:0','4:0','2:1','1:3','1:4','2:3','2:4','3:4'])"
   ]
  },
  {
   "cell_type": "code",
   "execution_count": 7,
   "metadata": {},
   "outputs": [
    {
     "data": {
      "text/plain": [
       "0"
      ]
     },
     "execution_count": 7,
     "metadata": {},
     "output_type": "execute_result"
    }
   ],
   "source": [
    "points(['0:1','0:2','0:3','0:4','1:2','1:3','1:4','2:3','2:4','3:4'])"
   ]
  },
  {
   "cell_type": "markdown",
   "metadata": {},
   "source": [
    "## A More Efficient Way to Solve It:"
   ]
  },
  {
   "cell_type": "code",
   "execution_count": 8,
   "metadata": {},
   "outputs": [],
   "source": []
  },
  {
   "cell_type": "code",
   "execution_count": 15,
   "metadata": {},
   "outputs": [],
   "source": [
    "def points(games):\n",
    "    pnts = 0\n",
    "    for i in games: \n",
    "        if i.split(':')[0] > i.split(':')[1]:\n",
    "            pnts+=3\n",
    "        elif i.split(':')[0] == i.split(':')[1]:\n",
    "            pnts+=1\n",
    "        else:\n",
    "            pnts\n",
    "    return pnts"
   ]
  },
  {
   "cell_type": "code",
   "execution_count": 20,
   "metadata": {},
   "outputs": [
    {
     "data": {
      "text/plain": [
       "12"
      ]
     },
     "execution_count": 20,
     "metadata": {},
     "output_type": "execute_result"
    }
   ],
   "source": [
    "# testing the new function: \n",
    "points(['1:0','2:0','3:0','4:4','2:2','3:3','1:4','2:3','2:4','3:4'])"
   ]
  },
  {
   "cell_type": "code",
   "execution_count": 21,
   "metadata": {},
   "outputs": [
    {
     "data": {
      "text/plain": [
       "15"
      ]
     },
     "execution_count": 21,
     "metadata": {},
     "output_type": "execute_result"
    }
   ],
   "source": [
    "points(['1:0','2:0','3:0','4:0','2:1','1:3','1:4','2:3','2:4','3:4'])"
   ]
  },
  {
   "cell_type": "code",
   "execution_count": 17,
   "metadata": {},
   "outputs": [
    {
     "data": {
      "text/plain": [
       "10"
      ]
     },
     "execution_count": 17,
     "metadata": {},
     "output_type": "execute_result"
    }
   ],
   "source": [
    "points(['1:1','2:2','3:3','4:4','2:2','3:3','4:4','3:3','4:4','4:4'])"
   ]
  },
  {
   "cell_type": "code",
   "execution_count": 18,
   "metadata": {},
   "outputs": [
    {
     "data": {
      "text/plain": [
       "30"
      ]
     },
     "execution_count": 18,
     "metadata": {},
     "output_type": "execute_result"
    }
   ],
   "source": [
    "points(['1:0','2:0','3:0','4:0','2:1','3:1','4:1','3:2','4:2','4:3'])"
   ]
  }
 ],
 "metadata": {
  "kernelspec": {
   "display_name": "Python 3",
   "language": "python",
   "name": "python3"
  },
  "language_info": {
   "codemirror_mode": {
    "name": "ipython",
    "version": 3
   },
   "file_extension": ".py",
   "mimetype": "text/x-python",
   "name": "python",
   "nbconvert_exporter": "python",
   "pygments_lexer": "ipython3",
   "version": "3.6.8"
  }
 },
 "nbformat": 4,
 "nbformat_minor": 2
}
